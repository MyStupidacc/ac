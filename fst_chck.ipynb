{
 "cells": [
  {
   "cell_type": "code",
   "execution_count": 32,
   "metadata": {
    "ExecuteTime": {
     "end_time": "2020-11-11T16:08:32.364602Z",
     "start_time": "2020-11-11T16:08:31.713372Z"
    }
   },
   "outputs": [],
   "source": [
    "import pandas as pd\n",
    "import numpy as np\n",
    "from sklearn.model_selection import KFold, train_test_split, cross_val_score\n",
    "\n",
    "from sklearn.neighbors import KNeighborsRegressor\n",
    "from sklearn.ensemble import RandomForestClassifier\n",
    "from sklearn.metrics import f1_score, classification_report\n",
    "\n",
    "import warnings\n",
    "warnings.filterwarnings('ignore')\n",
    "\n",
    "from tqdm import tqdm\n",
    "\n",
    "import lightgbm as lgbm\n",
    "import matplotlib.pyplot as plt\n",
    "%matplotlib inline"
   ]
  },
  {
   "cell_type": "code",
   "execution_count": 2,
   "metadata": {
    "ExecuteTime": {
     "end_time": "2020-11-11T16:09:02.622485Z",
     "start_time": "2020-11-11T16:09:02.458471Z"
    }
   },
   "outputs": [
    {
     "name": "stdout",
     "output_type": "stream",
     "text": [
      "(2838, 370) (939, 369)\n"
     ]
    }
   ],
   "source": [
    "train = pd.read_csv('train.csv')\n",
    "test = pd.read_csv('test.csv')\n",
    "\n",
    "print(train.shape, test.shape)"
   ]
  },
  {
   "cell_type": "markdown",
   "metadata": {},
   "source": [
    "Объединяем train и test выборки"
   ]
  },
  {
   "cell_type": "code",
   "execution_count": 3,
   "metadata": {},
   "outputs": [],
   "source": [
    "train_target = train['Culture']\n",
    "train.drop('Culture', axis = 1, inplace = True)\n",
    "\n",
    "train['is train'] = 1\n",
    "test['is train'] = 0\n",
    "df = pd.concat([train, test])\n",
    "\n",
    "df_features = df[['Year', 'Field ID', 'Field Area', 'is train']]\n",
    "\n",
    "days = list(train.columns[3:-1])"
   ]
  },
  {
   "cell_type": "markdown",
   "metadata": {},
   "source": [
    "Cтоит заполнить пропуски. Для этого будем обучаться на полях, у которых известны все дни(365) и предсказывать для всех остальных"
   ]
  },
  {
   "cell_type": "code",
   "execution_count": 4,
   "metadata": {},
   "outputs": [],
   "source": [
    "#для начала посмотрим количество информатвных дней у каждого\n",
    "df_features['amt_days'] = (df[days].isna() == False).sum(axis = 1)"
   ]
  },
  {
   "cell_type": "code",
   "execution_count": 5,
   "metadata": {},
   "outputs": [
    {
     "name": "stdout",
     "output_type": "stream",
     "text": [
      "100 2 -0.00010983799959275591\n",
      "100 5 -6.436471580923183e-05\n",
      "100 8 -6.151429194979794e-05\n",
      "100 12 -6.0516276991428513e-05\n",
      "100 16 -6.058763700035909e-05\n",
      "200 2 -8.728547454058916e-05\n",
      "200 5 -5.993426809563833e-05\n",
      "200 8 -5.740956932137332e-05\n",
      "200 12 -5.766898560864294e-05\n",
      "200 16 -5.725678636866907e-05\n",
      "300 2 -7.963730733924925e-05\n",
      "300 5 -5.8404487788624595e-05\n",
      "300 8 -5.7145584064076924e-05\n",
      "300 12 -5.7521155197809425e-05\n",
      "300 16 -5.697713625218716e-05\n",
      "500 2 -7.487672426673317e-05\n",
      "500 5 -5.81013399079825e-05\n",
      "500 8 -5.750697101334243e-05\n",
      "500 12 -5.8092893272918164e-05\n",
      "500 16 -5.739050176608738e-05\n",
      "1 -0.004102669421208281\n",
      "2 -0.0034238358766370933\n",
      "3 -0.003324593417828475\n",
      "4 -0.003463654810942121\n",
      "5 -0.0035735215114490915\n",
      "6 -0.003654123115758344\n",
      "7 -0.0037808599460265727\n",
      "8 -0.003965647124656738\n",
      "9 -0.004123713762433043\n",
      "10 -0.004277225611913815\n",
      "11 -0.004367863875813091\n",
      "12 -0.004495117404913627\n",
      "13 -0.0046080582869485005\n",
      "14 -0.004701413766349379\n",
      "15 -0.004810171100708821\n",
      "16 -0.0049379253307687745\n",
      "17 -0.005013139491625771\n",
      "18 -0.005128700662856562\n",
      "19 -0.005257539465082559\n",
      "20 -0.005309624099566962\n",
      "21 -0.005406410474513984\n",
      "22 -0.005481322975581952\n",
      "23 -0.005576906068907465\n",
      "24 -0.005659264109397738\n"
     ]
    }
   ],
   "source": [
    "#Сначала подберём алгоритм, обучившись на 364 днях и предсказав на 365-й:\n",
    "train_na = df[df_features['amt_days']>=365][days[:364]]\n",
    "target_na = df[df_features['amt_days']>=365][days[364]]\n",
    "\n",
    "kf = KFold(n_splits=3, shuffle = True, random_state=13)\n",
    "\n",
    "for est in [100, 200, 300, 500]:\n",
    "    for d in [2, 5, 8, 12, 16]:\n",
    "        model = lgbm.LGBMRegressor(n_estimators = est, max_depth = d, random_state = 44, n_jobs = 4)\n",
    "        score = cross_val_score(model, train_na, target_na, cv = kf, scoring='neg_mean_squared_error')\n",
    "        print(est, d, np.mean(score))\n",
    "        \n",
    "for k in range(1, 25):\n",
    "    model = KNeighborsRegressor(n_neighbors=k)\n",
    "    score = cross_val_score(model, train_na, target_na, cv = kf, scoring='neg_mean_squared_error')\n",
    "    print(k, np.mean(score))"
   ]
  },
  {
   "cell_type": "markdown",
   "metadata": {},
   "source": [
    "Будем использовать модель LGBMRegressor с n_estimators = 300 и max_depth = 8"
   ]
  },
  {
   "cell_type": "code",
   "execution_count": 36,
   "metadata": {},
   "outputs": [
    {
     "data": {
      "text/plain": [
       "Index(['Year', 'Field ID', 'Field Area', 'Day 1', 'Day 2', 'Day 3', 'Day 4',\n",
       "       'Day 5', 'Day 6', 'Day 7',\n",
       "       ...\n",
       "       'Day 245', 'Day 246', 'Day 247', 'Day 248', 'Day 249', 'Day 250',\n",
       "       'Day 251', 'Day 252', 'Day 253', 'Day 254'],\n",
       "      dtype='object', length=257)"
      ]
     },
     "execution_count": 36,
     "metadata": {},
     "output_type": "execute_result"
    }
   ],
   "source": [
    "start_df.columns"
   ]
  },
  {
   "cell_type": "code",
   "execution_count": 37,
   "metadata": {},
   "outputs": [
    {
     "name": "stderr",
     "output_type": "stream",
     "text": [
      "100%|██████████| 113/113 [07:01<00:00,  3.73s/it]\n"
     ]
    }
   ],
   "source": [
    "start_df = df[df.columns[:256]]\n",
    "for day in tqdm(days[253:]):\n",
    "    start_df[day] = list(df[day])\n",
    "    if (start_df[day].isna().sum()>0):\n",
    "        train_day = start_df[start_df[day].isna() == False]\n",
    "        test_day = start_df[start_df[day].isna()]\n",
    "        \n",
    "        res_train = train_day[['Year', 'Field ID', 'Field Area', day]]\n",
    "        res_test = test_day[['Year', 'Field ID', 'Field Area']]\n",
    "        target_day = train_day[day]\n",
    "        \n",
    "        train_day.drop(day, axis = 1, inplace = True)\n",
    "        test_day.drop(day, axis = 1, inplace = True)\n",
    "        start_df.drop(day, axis = 1, inplace = True)\n",
    "        \n",
    "        model = lgbm.LGBMRegressor(n_estimators = 300, max_depth = 8, random_state = 44, n_jobs = 4)\n",
    "        model.fit(train_day, target_day)\n",
    "        y_pred = model.predict(test_day)\n",
    "        res_test[day]=y_pred\n",
    "        start_df = pd.merge(start_df, pd.concat([res_train, res_test]), on = ['Year', 'Field ID', 'Field Area'])"
   ]
  },
  {
   "cell_type": "code",
   "execution_count": 38,
   "metadata": {},
   "outputs": [
    {
     "data": {
      "text/html": [
       "<div>\n",
       "<style scoped>\n",
       "    .dataframe tbody tr th:only-of-type {\n",
       "        vertical-align: middle;\n",
       "    }\n",
       "\n",
       "    .dataframe tbody tr th {\n",
       "        vertical-align: top;\n",
       "    }\n",
       "\n",
       "    .dataframe thead th {\n",
       "        text-align: right;\n",
       "    }\n",
       "</style>\n",
       "<table border=\"1\" class=\"dataframe\">\n",
       "  <thead>\n",
       "    <tr style=\"text-align: right;\">\n",
       "      <th></th>\n",
       "      <th>Year</th>\n",
       "      <th>Field ID</th>\n",
       "      <th>Field Area</th>\n",
       "      <th>Day 1</th>\n",
       "      <th>Day 2</th>\n",
       "      <th>Day 3</th>\n",
       "      <th>Day 4</th>\n",
       "      <th>Day 5</th>\n",
       "      <th>Day 6</th>\n",
       "      <th>Day 7</th>\n",
       "      <th>...</th>\n",
       "      <th>Day 357</th>\n",
       "      <th>Day 358</th>\n",
       "      <th>Day 359</th>\n",
       "      <th>Day 360</th>\n",
       "      <th>Day 361</th>\n",
       "      <th>Day 362</th>\n",
       "      <th>Day 363</th>\n",
       "      <th>Day 364</th>\n",
       "      <th>Day 365</th>\n",
       "      <th>Day 366</th>\n",
       "    </tr>\n",
       "  </thead>\n",
       "  <tbody>\n",
       "    <tr>\n",
       "      <th>0</th>\n",
       "      <td>2018</td>\n",
       "      <td>517</td>\n",
       "      <td>48.64</td>\n",
       "      <td>0.5369</td>\n",
       "      <td>0.5371</td>\n",
       "      <td>0.5375</td>\n",
       "      <td>0.5379</td>\n",
       "      <td>0.5384</td>\n",
       "      <td>0.5390</td>\n",
       "      <td>0.5397</td>\n",
       "      <td>...</td>\n",
       "      <td>0.440200</td>\n",
       "      <td>0.436200</td>\n",
       "      <td>0.432200</td>\n",
       "      <td>0.428300</td>\n",
       "      <td>0.424300</td>\n",
       "      <td>0.420300</td>\n",
       "      <td>0.416300</td>\n",
       "      <td>0.412300</td>\n",
       "      <td>0.408400</td>\n",
       "      <td>0.392122</td>\n",
       "    </tr>\n",
       "    <tr>\n",
       "      <th>1</th>\n",
       "      <td>2019</td>\n",
       "      <td>1395</td>\n",
       "      <td>80.41</td>\n",
       "      <td>0.1159</td>\n",
       "      <td>0.1096</td>\n",
       "      <td>0.1034</td>\n",
       "      <td>0.0971</td>\n",
       "      <td>0.0909</td>\n",
       "      <td>0.0846</td>\n",
       "      <td>0.0783</td>\n",
       "      <td>...</td>\n",
       "      <td>-0.004773</td>\n",
       "      <td>-0.006073</td>\n",
       "      <td>-0.007973</td>\n",
       "      <td>-0.008298</td>\n",
       "      <td>-0.009524</td>\n",
       "      <td>-0.009825</td>\n",
       "      <td>-0.010031</td>\n",
       "      <td>-0.010170</td>\n",
       "      <td>-0.010817</td>\n",
       "      <td>-0.011907</td>\n",
       "    </tr>\n",
       "    <tr>\n",
       "      <th>2</th>\n",
       "      <td>2017</td>\n",
       "      <td>44</td>\n",
       "      <td>43.64</td>\n",
       "      <td>-0.0204</td>\n",
       "      <td>-0.0207</td>\n",
       "      <td>-0.0210</td>\n",
       "      <td>-0.0212</td>\n",
       "      <td>-0.0215</td>\n",
       "      <td>-0.0218</td>\n",
       "      <td>-0.0220</td>\n",
       "      <td>...</td>\n",
       "      <td>0.051600</td>\n",
       "      <td>0.083300</td>\n",
       "      <td>0.114900</td>\n",
       "      <td>0.146600</td>\n",
       "      <td>0.178200</td>\n",
       "      <td>0.209900</td>\n",
       "      <td>0.241500</td>\n",
       "      <td>0.273200</td>\n",
       "      <td>0.304800</td>\n",
       "      <td>0.291426</td>\n",
       "    </tr>\n",
       "    <tr>\n",
       "      <th>3</th>\n",
       "      <td>2018</td>\n",
       "      <td>1591</td>\n",
       "      <td>79.34</td>\n",
       "      <td>0.4827</td>\n",
       "      <td>0.4576</td>\n",
       "      <td>0.4324</td>\n",
       "      <td>0.4073</td>\n",
       "      <td>0.3821</td>\n",
       "      <td>0.3570</td>\n",
       "      <td>0.3318</td>\n",
       "      <td>...</td>\n",
       "      <td>0.264600</td>\n",
       "      <td>0.265700</td>\n",
       "      <td>0.266800</td>\n",
       "      <td>0.268000</td>\n",
       "      <td>0.269200</td>\n",
       "      <td>0.270500</td>\n",
       "      <td>0.271700</td>\n",
       "      <td>0.273000</td>\n",
       "      <td>0.274300</td>\n",
       "      <td>0.274513</td>\n",
       "    </tr>\n",
       "    <tr>\n",
       "      <th>4</th>\n",
       "      <td>2017</td>\n",
       "      <td>681</td>\n",
       "      <td>144.76</td>\n",
       "      <td>-0.0202</td>\n",
       "      <td>-0.0191</td>\n",
       "      <td>-0.0181</td>\n",
       "      <td>-0.0170</td>\n",
       "      <td>-0.0160</td>\n",
       "      <td>-0.0150</td>\n",
       "      <td>-0.0140</td>\n",
       "      <td>...</td>\n",
       "      <td>-0.035100</td>\n",
       "      <td>-0.035400</td>\n",
       "      <td>-0.035800</td>\n",
       "      <td>-0.036100</td>\n",
       "      <td>-0.036500</td>\n",
       "      <td>-0.036900</td>\n",
       "      <td>-0.037200</td>\n",
       "      <td>-0.037600</td>\n",
       "      <td>-0.037900</td>\n",
       "      <td>-0.028729</td>\n",
       "    </tr>\n",
       "    <tr>\n",
       "      <th>...</th>\n",
       "      <td>...</td>\n",
       "      <td>...</td>\n",
       "      <td>...</td>\n",
       "      <td>...</td>\n",
       "      <td>...</td>\n",
       "      <td>...</td>\n",
       "      <td>...</td>\n",
       "      <td>...</td>\n",
       "      <td>...</td>\n",
       "      <td>...</td>\n",
       "      <td>...</td>\n",
       "      <td>...</td>\n",
       "      <td>...</td>\n",
       "      <td>...</td>\n",
       "      <td>...</td>\n",
       "      <td>...</td>\n",
       "      <td>...</td>\n",
       "      <td>...</td>\n",
       "      <td>...</td>\n",
       "      <td>...</td>\n",
       "      <td>...</td>\n",
       "    </tr>\n",
       "    <tr>\n",
       "      <th>3772</th>\n",
       "      <td>2019</td>\n",
       "      <td>665</td>\n",
       "      <td>46.50</td>\n",
       "      <td>-0.0176</td>\n",
       "      <td>-0.0179</td>\n",
       "      <td>-0.0181</td>\n",
       "      <td>-0.0184</td>\n",
       "      <td>-0.0186</td>\n",
       "      <td>-0.0188</td>\n",
       "      <td>-0.0189</td>\n",
       "      <td>...</td>\n",
       "      <td>0.027822</td>\n",
       "      <td>0.025795</td>\n",
       "      <td>0.023634</td>\n",
       "      <td>0.015430</td>\n",
       "      <td>0.010265</td>\n",
       "      <td>0.009172</td>\n",
       "      <td>0.011404</td>\n",
       "      <td>0.008252</td>\n",
       "      <td>0.008069</td>\n",
       "      <td>0.002872</td>\n",
       "    </tr>\n",
       "    <tr>\n",
       "      <th>3773</th>\n",
       "      <td>2019</td>\n",
       "      <td>1277</td>\n",
       "      <td>229.24</td>\n",
       "      <td>0.0212</td>\n",
       "      <td>0.0181</td>\n",
       "      <td>0.0149</td>\n",
       "      <td>0.0118</td>\n",
       "      <td>0.0087</td>\n",
       "      <td>0.0056</td>\n",
       "      <td>0.0025</td>\n",
       "      <td>...</td>\n",
       "      <td>0.065797</td>\n",
       "      <td>0.059417</td>\n",
       "      <td>0.056833</td>\n",
       "      <td>0.050502</td>\n",
       "      <td>0.045515</td>\n",
       "      <td>0.040413</td>\n",
       "      <td>0.034999</td>\n",
       "      <td>0.028333</td>\n",
       "      <td>0.025110</td>\n",
       "      <td>0.017780</td>\n",
       "    </tr>\n",
       "    <tr>\n",
       "      <th>3774</th>\n",
       "      <td>2019</td>\n",
       "      <td>875</td>\n",
       "      <td>166.97</td>\n",
       "      <td>0.0460</td>\n",
       "      <td>0.0411</td>\n",
       "      <td>0.0362</td>\n",
       "      <td>0.0312</td>\n",
       "      <td>0.0263</td>\n",
       "      <td>0.0214</td>\n",
       "      <td>0.0165</td>\n",
       "      <td>...</td>\n",
       "      <td>0.112037</td>\n",
       "      <td>0.107812</td>\n",
       "      <td>0.098518</td>\n",
       "      <td>0.090323</td>\n",
       "      <td>0.085745</td>\n",
       "      <td>0.080592</td>\n",
       "      <td>0.074589</td>\n",
       "      <td>0.069685</td>\n",
       "      <td>0.065124</td>\n",
       "      <td>0.063064</td>\n",
       "    </tr>\n",
       "    <tr>\n",
       "      <th>3775</th>\n",
       "      <td>2019</td>\n",
       "      <td>301</td>\n",
       "      <td>123.52</td>\n",
       "      <td>0.2499</td>\n",
       "      <td>0.2483</td>\n",
       "      <td>0.2468</td>\n",
       "      <td>0.2452</td>\n",
       "      <td>0.2437</td>\n",
       "      <td>0.2422</td>\n",
       "      <td>0.2407</td>\n",
       "      <td>...</td>\n",
       "      <td>0.219314</td>\n",
       "      <td>0.223738</td>\n",
       "      <td>0.222823</td>\n",
       "      <td>0.219409</td>\n",
       "      <td>0.209657</td>\n",
       "      <td>0.198641</td>\n",
       "      <td>0.194691</td>\n",
       "      <td>0.193127</td>\n",
       "      <td>0.184791</td>\n",
       "      <td>0.196919</td>\n",
       "    </tr>\n",
       "    <tr>\n",
       "      <th>3776</th>\n",
       "      <td>2019</td>\n",
       "      <td>464</td>\n",
       "      <td>88.15</td>\n",
       "      <td>0.3809</td>\n",
       "      <td>0.3599</td>\n",
       "      <td>0.3388</td>\n",
       "      <td>0.3178</td>\n",
       "      <td>0.2967</td>\n",
       "      <td>0.2757</td>\n",
       "      <td>0.2546</td>\n",
       "      <td>...</td>\n",
       "      <td>0.503942</td>\n",
       "      <td>0.500906</td>\n",
       "      <td>0.496174</td>\n",
       "      <td>0.491699</td>\n",
       "      <td>0.493711</td>\n",
       "      <td>0.472354</td>\n",
       "      <td>0.453864</td>\n",
       "      <td>0.434208</td>\n",
       "      <td>0.418617</td>\n",
       "      <td>0.424059</td>\n",
       "    </tr>\n",
       "  </tbody>\n",
       "</table>\n",
       "<p>3777 rows × 369 columns</p>\n",
       "</div>"
      ],
      "text/plain": [
       "      Year  Field ID  Field Area   Day 1   Day 2   Day 3   Day 4   Day 5  \\\n",
       "0     2018       517       48.64  0.5369  0.5371  0.5375  0.5379  0.5384   \n",
       "1     2019      1395       80.41  0.1159  0.1096  0.1034  0.0971  0.0909   \n",
       "2     2017        44       43.64 -0.0204 -0.0207 -0.0210 -0.0212 -0.0215   \n",
       "3     2018      1591       79.34  0.4827  0.4576  0.4324  0.4073  0.3821   \n",
       "4     2017       681      144.76 -0.0202 -0.0191 -0.0181 -0.0170 -0.0160   \n",
       "...    ...       ...         ...     ...     ...     ...     ...     ...   \n",
       "3772  2019       665       46.50 -0.0176 -0.0179 -0.0181 -0.0184 -0.0186   \n",
       "3773  2019      1277      229.24  0.0212  0.0181  0.0149  0.0118  0.0087   \n",
       "3774  2019       875      166.97  0.0460  0.0411  0.0362  0.0312  0.0263   \n",
       "3775  2019       301      123.52  0.2499  0.2483  0.2468  0.2452  0.2437   \n",
       "3776  2019       464       88.15  0.3809  0.3599  0.3388  0.3178  0.2967   \n",
       "\n",
       "       Day 6   Day 7  ...   Day 357   Day 358   Day 359   Day 360   Day 361  \\\n",
       "0     0.5390  0.5397  ...  0.440200  0.436200  0.432200  0.428300  0.424300   \n",
       "1     0.0846  0.0783  ... -0.004773 -0.006073 -0.007973 -0.008298 -0.009524   \n",
       "2    -0.0218 -0.0220  ...  0.051600  0.083300  0.114900  0.146600  0.178200   \n",
       "3     0.3570  0.3318  ...  0.264600  0.265700  0.266800  0.268000  0.269200   \n",
       "4    -0.0150 -0.0140  ... -0.035100 -0.035400 -0.035800 -0.036100 -0.036500   \n",
       "...      ...     ...  ...       ...       ...       ...       ...       ...   \n",
       "3772 -0.0188 -0.0189  ...  0.027822  0.025795  0.023634  0.015430  0.010265   \n",
       "3773  0.0056  0.0025  ...  0.065797  0.059417  0.056833  0.050502  0.045515   \n",
       "3774  0.0214  0.0165  ...  0.112037  0.107812  0.098518  0.090323  0.085745   \n",
       "3775  0.2422  0.2407  ...  0.219314  0.223738  0.222823  0.219409  0.209657   \n",
       "3776  0.2757  0.2546  ...  0.503942  0.500906  0.496174  0.491699  0.493711   \n",
       "\n",
       "       Day 362   Day 363   Day 364   Day 365   Day 366  \n",
       "0     0.420300  0.416300  0.412300  0.408400  0.392122  \n",
       "1    -0.009825 -0.010031 -0.010170 -0.010817 -0.011907  \n",
       "2     0.209900  0.241500  0.273200  0.304800  0.291426  \n",
       "3     0.270500  0.271700  0.273000  0.274300  0.274513  \n",
       "4    -0.036900 -0.037200 -0.037600 -0.037900 -0.028729  \n",
       "...        ...       ...       ...       ...       ...  \n",
       "3772  0.009172  0.011404  0.008252  0.008069  0.002872  \n",
       "3773  0.040413  0.034999  0.028333  0.025110  0.017780  \n",
       "3774  0.080592  0.074589  0.069685  0.065124  0.063064  \n",
       "3775  0.198641  0.194691  0.193127  0.184791  0.196919  \n",
       "3776  0.472354  0.453864  0.434208  0.418617  0.424059  \n",
       "\n",
       "[3777 rows x 369 columns]"
      ]
     },
     "execution_count": 38,
     "metadata": {},
     "output_type": "execute_result"
    }
   ],
   "source": [
    "start_df"
   ]
  },
  {
   "cell_type": "code",
   "execution_count": 74,
   "metadata": {},
   "outputs": [],
   "source": [
    "df = pd.merge(df[['Year', 'Field ID', 'Field Area', 'is train']], start_df, on = ['Year', 'Field ID', 'Field Area'])"
   ]
  },
  {
   "cell_type": "code",
   "execution_count": 75,
   "metadata": {},
   "outputs": [],
   "source": [
    "df.to_csv('filled_df.csv', index = False)"
   ]
  },
  {
   "cell_type": "markdown",
   "metadata": {},
   "source": [
    "Собираем признаки:"
   ]
  },
  {
   "cell_type": "code",
   "execution_count": 76,
   "metadata": {},
   "outputs": [],
   "source": [
    "#стандартные статистические величины\n",
    "df_features['days_mean'] = df[days].mean(axis = 1)\n",
    "df_features['days_std'] = df[days].std(axis = 1)\n",
    "df_features['days_min'] = df[days].min(axis = 1)\n",
    "df_features['days_max'] = df[days].max(axis = 1)\n",
    "df_features['days_max_minus_min'] = (df_features['days_max']-df_features['days_min'])/df_features['days_mean']"
   ]
  },
  {
   "cell_type": "code",
   "execution_count": 119,
   "metadata": {},
   "outputs": [],
   "source": [
    "df_features = pd.concat([df_features, pd.get_dummies(df_features['Year'])], axis = 1)                         "
   ]
  },
  {
   "cell_type": "code",
   "execution_count": 131,
   "metadata": {},
   "outputs": [
    {
     "data": {
      "text/plain": [
       "Index([              'Year',           'Field ID',         'Field Area',\n",
       "                 'is train',           'amt_days',          'days_mean',\n",
       "                 'days_std',           'days_min',           'days_max',\n",
       "       'days_max_minus_min',                 2015,                 2016,\n",
       "                       2017,                 2018,                 2019],\n",
       "      dtype='object')"
      ]
     },
     "execution_count": 131,
     "metadata": {},
     "output_type": "execute_result"
    }
   ],
   "source": [
    "df_features.columns"
   ]
  },
  {
   "cell_type": "code",
   "execution_count": 113,
   "metadata": {
    "ExecuteTime": {
     "end_time": "2020-11-11T16:09:12.518606Z",
     "start_time": "2020-11-11T16:09:12.508675Z"
    }
   },
   "outputs": [],
   "source": [
    "X_tt, X_tv, y_tt, y_tv = train_test_split(df_features[df_features['is train']==1].drop(['Field ID', 'is train'], axis = 1), \n",
    "                                          train_target, test_size=0.2, random_state=0)"
   ]
  },
  {
   "cell_type": "code",
   "execution_count": 147,
   "metadata": {},
   "outputs": [],
   "source": [
    "X_tt, X_tv, y_tt, y_tv = train_test_split(df_1[df_1['is train']==1].drop(['Field ID', 'is train', 'Year'], axis = 1), \n",
    "                                          train_target, test_size=0.2, random_state=0)"
   ]
  },
  {
   "cell_type": "code",
   "execution_count": 146,
   "metadata": {},
   "outputs": [],
   "source": [
    "df_1 = pd.merge(df, df_features, on = ['Year', 'Field ID', 'Field Area', 'is train'])"
   ]
  },
  {
   "cell_type": "code",
   "execution_count": 148,
   "metadata": {},
   "outputs": [
    {
     "name": "stdout",
     "output_type": "stream",
     "text": [
      "0.895717530977502\n"
     ]
    }
   ],
   "source": [
    "model = RandomForestClassifier(random_state=0, n_estimators=200, max_depth=25, max_features = 'sqrt')\n",
    "model.fit(X_tt, y_tt)\n",
    "preds_valid = model.predict(X_tv)\n",
    "\n",
    "print(f1_score(y_tv, preds_valid, average='weighted'))"
   ]
  },
  {
   "cell_type": "code",
   "execution_count": 149,
   "metadata": {},
   "outputs": [],
   "source": [
    "model = RandomForestClassifier(random_state=0, n_estimators=200, max_depth=25, max_features = 'sqrt')\n",
    "model.fit(df_1[df_1['is train']==1].drop(['Field ID', 'is train', 'Year'], axis = 1), train_target)\n",
    "preds = model.predict(df_1[df_1['is train']==0].drop(['Field ID', 'is train', 'Year'], axis = 1)) + 1"
   ]
  },
  {
   "cell_type": "code",
   "execution_count": 151,
   "metadata": {},
   "outputs": [],
   "source": [
    "pd.Series(preds).to_csv('preds.csv', index=False, header=['Culture'])"
   ]
  },
  {
   "cell_type": "code",
   "execution_count": null,
   "metadata": {},
   "outputs": [],
   "source": []
  },
  {
   "cell_type": "code",
   "execution_count": null,
   "metadata": {
    "ExecuteTime": {
     "end_time": "2020-11-11T16:09:16.262589Z",
     "start_time": "2020-11-11T16:09:16.197563Z"
    }
   },
   "outputs": [],
   "source": [
    "preds = model.predict(X_test) + 1\n",
    "\n",
    "pd.Series(preds).to_csv('preds.csv', index=False, header=['Culture'])"
   ]
  }
 ],
 "metadata": {
  "kernelspec": {
   "display_name": "py36",
   "language": "python",
   "name": "py36"
  },
  "language_info": {
   "codemirror_mode": {
    "name": "ipython",
    "version": 3
   },
   "file_extension": ".py",
   "mimetype": "text/x-python",
   "name": "python",
   "nbconvert_exporter": "python",
   "pygments_lexer": "ipython3",
   "version": "3.6.9"
  },
  "toc": {
   "base_numbering": 1,
   "nav_menu": {},
   "number_sections": true,
   "sideBar": true,
   "skip_h1_title": false,
   "title_cell": "Table of Contents",
   "title_sidebar": "Contents",
   "toc_cell": false,
   "toc_position": {},
   "toc_section_display": true,
   "toc_window_display": false
  }
 },
 "nbformat": 4,
 "nbformat_minor": 4
}
